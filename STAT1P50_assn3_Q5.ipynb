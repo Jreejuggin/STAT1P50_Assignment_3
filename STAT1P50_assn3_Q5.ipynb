{
 "cells": [
  {
   "cell_type": "code",
   "execution_count": 7,
   "id": "b1adf02a",
   "metadata": {},
   "outputs": [
    {
     "name": "stdout",
     "output_type": "stream",
     "text": [
      "frequency ratio of the most frequent word: 0.25\n"
     ]
    }
   ],
   "source": [
    "def get_frequency(input_string):\n",
    "    list_of_words = input_string.split(' ')\n",
    "    dict_of_frequencies = {}\n",
    "\n",
    "    #counts how many times a word appears in the passed string input\n",
    "    for word in list_of_words:\n",
    "        if word in dict_of_frequencies.keys():\n",
    "            dict_of_frequencies[word] = dict_of_frequencies[word] + 1\n",
    "        else:\n",
    "            dict_of_frequencies[word] = 1\n",
    "    \n",
    "    #sorts the dictionary by key (with the highest key value being at the end)\n",
    "    sorted_dict = dict(sorted(dict_of_frequencies.items(), key=lambda item: item[1])) \n",
    "    #puts the items from the dictionary into a list\n",
    "    sortedList = list(sorted_dict.items())\n",
    "\n",
    "    \n",
    "    #the most frequent word is the word at the end of the list\n",
    "    mostFreqWord = sortedList[len(sortedList)-1][1] #is the integer of how many time the most frequent word appears\n",
    "   \n",
    "    #ratio\n",
    "    freqRatio = mostFreqWord / len(list_of_words) \n",
    "\n",
    "    return(freqRatio)\n",
    "\n",
    "testText = \"The beautiful sunset cast beautiful colors on the beautiful beach, creating a beautiful and serene atmosphere.\"\n",
    "print (\"frequency ratio of the most frequent word:\",get_frequency(testText))\n"
   ]
  },
  {
   "cell_type": "code",
   "execution_count": null,
   "id": "cde02783",
   "metadata": {},
   "outputs": [],
   "source": []
  }
 ],
 "metadata": {
  "kernelspec": {
   "display_name": "Python 3 (ipykernel)",
   "language": "python",
   "name": "python3"
  },
  "language_info": {
   "codemirror_mode": {
    "name": "ipython",
    "version": 3
   },
   "file_extension": ".py",
   "mimetype": "text/x-python",
   "name": "python",
   "nbconvert_exporter": "python",
   "pygments_lexer": "ipython3",
   "version": "3.11.4"
  }
 },
 "nbformat": 4,
 "nbformat_minor": 5
}
