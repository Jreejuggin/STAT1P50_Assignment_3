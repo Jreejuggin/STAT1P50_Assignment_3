{
 "cells": [
  {
   "cell_type": "code",
   "execution_count": 5,
   "id": "d9f52a6c",
   "metadata": {},
   "outputs": [
    {
     "name": "stdout",
     "output_type": "stream",
     "text": [
      "Model Coefficients: [ 0.55438036  0.12095329  0.26384458  0.2051048  -0.07187846]\n",
      "The most influential factor in violent crimes is the percentage of people under the poverty level\n"
     ]
    }
   ],
   "source": [
    "from sklearn.linear_model import LinearRegression\n",
    "from sklearn.model_selection import train_test_split\n",
    "import pandas as pd\n",
    "\n",
    "data = pd.read_csv('crime.csv')\n",
    "\n",
    "X = data[['PctPopUnderPov','PctUnemployed','PolicPerPop','Pcthomeless','PctBSorMore']]  # Features\n",
    "y = data['ViolentCrimesPerPop']  # Target variable\n",
    "\n",
    "X_train, X_test, y_train, y_test = train_test_split(X, y, test_size = 0.32)\n",
    "\n",
    "model = LinearRegression()\n",
    "model.fit(X_train, y_train)\n",
    "\n",
    "print(\"Model Coefficients:\", model.coef_)\n",
    "print (\"The most influential factor in violent crimes is the percentage of people under the poverty level\")"
   ]
  },
  {
   "cell_type": "code",
   "execution_count": null,
   "id": "cd85807a",
   "metadata": {},
   "outputs": [],
   "source": []
  }
 ],
 "metadata": {
  "kernelspec": {
   "display_name": "Python 3 (ipykernel)",
   "language": "python",
   "name": "python3"
  },
  "language_info": {
   "codemirror_mode": {
    "name": "ipython",
    "version": 3
   },
   "file_extension": ".py",
   "mimetype": "text/x-python",
   "name": "python",
   "nbconvert_exporter": "python",
   "pygments_lexer": "ipython3",
   "version": "3.11.4"
  }
 },
 "nbformat": 4,
 "nbformat_minor": 5
}
