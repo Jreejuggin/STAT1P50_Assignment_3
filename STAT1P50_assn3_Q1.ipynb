{
 "cells": [
  {
   "cell_type": "code",
   "execution_count": 16,
   "id": "5e063e75",
   "metadata": {},
   "outputs": [
    {
     "name": "stdout",
     "output_type": "stream",
     "text": [
      "(i) [[0.3781898]]\n",
      "is a positive slope meaning the percentage of unemployed people has a positive relationship with the violent crimes. as the percentage of unemployed people go up so does the number of violent crimes\n",
      "(ii) [[-0.19004129]]\n",
      "is a negative slope meaning the percentage of people with a bachelor’s degree or higher education has a negative relationship. as the percentage of people with a bachelor’s degree or higher increase the number of violent crimes decreases \n"
     ]
    }
   ],
   "source": [
    "from sklearn.linear_model import LinearRegression\n",
    "import numpy \n",
    "import pandas as pd\n",
    "\n",
    "model1 = LinearRegression()\n",
    "model2 = LinearRegression()\n",
    "\n",
    "data = pd.read_csv('crime.csv')\n",
    "\n",
    "x = numpy.array(data['ViolentCrimesPerPop']).reshape(-1,1)\n",
    "y1 = numpy.array(data['PctUnemployed']).reshape(-1,1)\n",
    "y2 = numpy.array(data['PctBSorMore']).reshape(-1,1)\n",
    "\n",
    "trained_model1 = model1.fit(x,y1)\n",
    "trained_model2 = model2.fit(x,y2)\n",
    "\n",
    "print (\"(i)\",trained_model1.coef_) \n",
    "print (\"is a positive slope meaning the percentage of unemployed people has a positive relationship with the violent crimes. as the percentage of unemployed people go up so does the number of violent crimes\")\n",
    "\n",
    "print (\"(ii)\", trained_model2.coef_)\n",
    "print (\"is a negative slope meaning the percentage of people with a bachelor’s degree or higher education has a negative relationship. as the percentage of people with a bachelor’s degree or higher increase the number of violent crimes decreases \")\n",
    "\n"
   ]
  },
  {
   "cell_type": "code",
   "execution_count": null,
   "id": "d52c0f6e",
   "metadata": {},
   "outputs": [],
   "source": []
  }
 ],
 "metadata": {
  "kernelspec": {
   "display_name": "Python 3 (ipykernel)",
   "language": "python",
   "name": "python3"
  },
  "language_info": {
   "codemirror_mode": {
    "name": "ipython",
    "version": 3
   },
   "file_extension": ".py",
   "mimetype": "text/x-python",
   "name": "python",
   "nbconvert_exporter": "python",
   "pygments_lexer": "ipython3",
   "version": "3.11.4"
  }
 },
 "nbformat": 4,
 "nbformat_minor": 5
}
